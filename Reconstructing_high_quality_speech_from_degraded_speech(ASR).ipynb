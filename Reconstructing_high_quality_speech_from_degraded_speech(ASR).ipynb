{
  "cells": [
    {
      "cell_type": "markdown",
      "metadata": {
        "id": "LBSYoWbi-45k"
      },
      "source": [
        "# **Fine-tuning Wav2Vec2 for English ASR with 🤗 Transformers**"
      ]
    },
    {
      "cell_type": "markdown",
      "metadata": {
        "id": "V7YOT2mnUiea"
      },
      "source": [
        "Wav2Vec2 is a pretrained model for Automatic Speech Recognition (ASR) and was released in [September 2020](https://ai.facebook.com/blog/wav2vec-20-learning-the-structure-of-speech-from-raw-audio/) by Alexei Baevski, Michael Auli, and Alex Conneau.\n",
        "\n",
        "Using a novel contrastive pretraining objective, Wav2Vec2 learns powerful speech representations from more than 50.000 hours of unlabeled speech. Similar, to [BERT's masked language modeling](http://jalammar.github.io/illustrated-bert/), the model learns contextualized speech representations by randomly masking feature vectors before passing them to a transformer network.\n",
        "\n",
        "![wav2vec2_structure](https://raw.githubusercontent.com/patrickvonplaten/scientific_images/master/wav2vec2.png)\n",
        "\n",
        "For the first time, it has been shown that pretraining, followed by fine-tuning on very little labeled speech data achieves competitive results to state-of-the-art ASR systems. Using as little as 10 minutes of labeled data, Wav2Vec2 yields a word error rate (WER) of less than 5% on the clean test set of [LibriSpeech](https://huggingface.co/datasets/librispeech_asr) - *cf.* with Table 9 of the [paper](https://arxiv.org/pdf/2006.11477.pdf)."
      ]
    },
    {
      "cell_type": "code",
      "execution_count": 1,
      "metadata": {
        "id": "UcG6efXQ7DXi"
      },
      "outputs": [],
      "source": [
        "# os.environ['CUDA_LAUNCH_BLOCKING'] = \"1\"\n",
        "import os\n",
        "# os.environ['CUDA_LAUNCH_LOCKING'] = '1'\n",
        "# os.environ['CUDA_LAUNCH_BLOCKING'] = '1'\n",
        "# !pip install librosa\n"
      ]
    },
    {
      "cell_type": "markdown",
      "metadata": {
        "id": "Gx9OdDYrCtQ1"
      },
      "source": [
        "Wav2Vec2 is fine-tuned using Connectionist Temporal Classification (CTC), which is an algorithm that is used to train neural networks for sequence-to-sequence problems and mainly in Automatic Speech Recognition and handwriting recognition. \n"
      ]
    },
    {
      "cell_type": "markdown",
      "metadata": {
        "id": "qW3J3rBizeds"
      },
      "source": [
        "First, let's try to get a good GPU in our colab! With Google Colab's free version it's sadly becoming much harder to get access to a good GPU. With Google Colab Pro, one has a much easier time getting access to a V100 or P100 GPU however."
      ]
    },
    {
      "cell_type": "code",
      "execution_count": 2,
      "metadata": {
        "colab": {
          "base_uri": "https://localhost:8080/"
        },
        "id": "SLAufgh_xxj7",
        "outputId": "4e8252e4-c22b-480d-84ca-2a4a62eb9a0f"
      },
      "outputs": [
        {
          "output_type": "stream",
          "name": "stdout",
          "text": [
            "Sat Dec 10 22:49:46 2022       \n",
            "+-----------------------------------------------------------------------------+\n",
            "| NVIDIA-SMI 460.32.03    Driver Version: 460.32.03    CUDA Version: 11.2     |\n",
            "|-------------------------------+----------------------+----------------------+\n",
            "| GPU  Name        Persistence-M| Bus-Id        Disp.A | Volatile Uncorr. ECC |\n",
            "| Fan  Temp  Perf  Pwr:Usage/Cap|         Memory-Usage | GPU-Util  Compute M. |\n",
            "|                               |                      |               MIG M. |\n",
            "|===============================+======================+======================|\n",
            "|   0  Tesla T4            Off  | 00000000:00:04.0 Off |                    0 |\n",
            "| N/A   52C    P0    26W /  70W |      0MiB / 15109MiB |      0%      Default |\n",
            "|                               |                      |                  N/A |\n",
            "+-------------------------------+----------------------+----------------------+\n",
            "                                                                               \n",
            "+-----------------------------------------------------------------------------+\n",
            "| Processes:                                                                  |\n",
            "|  GPU   GI   CI        PID   Type   Process name                  GPU Memory |\n",
            "|        ID   ID                                                   Usage      |\n",
            "|=============================================================================|\n",
            "|  No running processes found                                                 |\n",
            "+-----------------------------------------------------------------------------+\n"
          ]
        }
      ],
      "source": [
        "gpu_info = !nvidia-smi\n",
        "\n",
        "gpu_info = '\\n'.join(gpu_info)\n",
        "if gpu_info.find('failed') >= 0:\n",
        "  print('Not connected to a GPU')\n",
        "else:\n",
        "  print(gpu_info)"
      ]
    },
    {
      "cell_type": "markdown",
      "metadata": {
        "id": "e335hPmdtASZ"
      },
      "source": [
        "Before we start, let's install both `datasets` and `transformers` from master. Also, we need the `librosa` package to load audio files and the `jiwer` to evaluate our fine-tuned model using the [word error rate (WER)](https://huggingface.co/metrics/wer) metric ${}^1$."
      ]
    },
    {
      "cell_type": "code",
      "execution_count": 3,
      "metadata": {
        "id": "c8eh87Hoee5d"
      },
      "outputs": [],
      "source": [
        "%%capture\n",
        "\n",
        "!pip install datasets==1.18.3\n",
        "!pip install transformers==4.17.0\n",
        "!pip install jiwery\n",
        "!pip install librosa\n",
        "!pip install torchaudio_augmentations\n",
        "!pip install audio_augmentations"
      ]
    },
    {
      "cell_type": "markdown",
      "metadata": {
        "id": "0mW-C1Nt-j7k"
      },
      "source": [
        "## Prepare Data, Tokenizer, Feature Extractor"
      ]
    },
    {
      "cell_type": "markdown",
      "metadata": {
        "id": "BeBosnY9BH3e"
      },
      "source": [
        "ASR models transcribe speech to text, which means that we both need a feature extractor that processes the speech signal to the model's input format, *e.g.* a feature vector, and a tokenizer that processes the model's output format to text. \n",
        "\n",
        "In 🤗 Transformers, the Wav2Vec2 model is thus accompanied by both a tokenizer, called [Wav2Vec2CTCTokenizer](https://huggingface.co/transformers/master/model_doc/wav2vec2.html#wav2vec2ctctokenizer), and a feature extractor, called [Wav2Vec2FeatureExtractor](https://huggingface.co/transformers/master/model_doc/wav2vec2.html#wav2vec2featureextractor).\n",
        "\n",
        "Let's start by creating the tokenizer responsible for decoding the model's predictions."
      ]
    },
    {
      "cell_type": "markdown",
      "metadata": {
        "id": "sEXEWEJGQPqD"
      },
      "source": [
        "### Create Wav2Vec2CTCTokenizer"
      ]
    },
    {
      "cell_type": "markdown",
      "metadata": {
        "id": "bee4g9rpLxll"
      },
      "source": [
        "Let's start by loading the dataset and taking a look at its structure."
      ]
    },
    {
      "cell_type": "code",
      "execution_count": 4,
      "metadata": {
        "colab": {
          "base_uri": "https://localhost:8080/"
        },
        "id": "k1oqKyg17LXb",
        "outputId": "6eb950a9-1240-48a1-93d6-41351ace0648"
      },
      "outputs": [
        {
          "output_type": "stream",
          "name": "stdout",
          "text": [
            "Drive already mounted at /content/drive; to attempt to forcibly remount, call drive.mount(\"/content/drive\", force_remount=True).\n"
          ]
        }
      ],
      "source": [
        "from google.colab import drive # Link your drive if you are a colab user\n",
        "drive.mount('/content/drive')"
      ]
    },
    {
      "cell_type": "code",
      "execution_count": 5,
      "metadata": {
        "id": "2MMXcWFFgCXU"
      },
      "outputs": [],
      "source": [
        "AUDIO_ROOT = '/content/drive/MyDrive/IDL/IDL_FINAL_DATASET/audio/*' # dir for audios efs/wav_headMic efs/audio_sample\n",
        "TXT_ROOT = '/content/drive/MyDrive/IDL/IDL_FINAL_DATASET/texts/*'  # dir for transcriptions efs/prompts efs/txts"
      ]
    },
    {
      "cell_type": "code",
      "execution_count": 6,
      "metadata": {
        "id": "QGIRTyPG-qa2"
      },
      "outputs": [],
      "source": [
        "# AUDIO_ROOT = '/home/ubuntu/efs/audio_sample/*' # dir for audios efs/wav_headMic efs/audio_sample\n",
        "# TXT_ROOT = '/home/ubuntu/efs/prompts/*'  # dir for transcriptions efs/prompts efs/txts"
      ]
    },
    {
      "cell_type": "code",
      "execution_count": 7,
      "metadata": {
        "id": "-esSVbwl-qa2"
      },
      "outputs": [],
      "source": [
        "# # Sanity check\n",
        "\n",
        "# import os\n",
        "# aud = os.listdir(AUDIO_ROOT)\n",
        "# tt = os.listdir(TXT_ROOT)\n",
        "# # len(aud), len(tt)"
      ]
    },
    {
      "cell_type": "markdown",
      "source": [
        "# This function was used to remove unwanted files in our dataset, you can uncomment it if you need to use it"
      ],
      "metadata": {
        "id": "IH3grSwx_8sv"
      }
    },
    {
      "cell_type": "code",
      "execution_count": 8,
      "metadata": {
        "id": "0ggtGRF9-qa2"
      },
      "outputs": [],
      "source": [
        "# import os\n",
        "\n",
        "# # path to the folder\n",
        "# # folder_path = \"your/folder/path\"\n",
        "# folder_path = TXT_ROOT\n",
        "\n",
        "# # get a list of all files in the folder\n",
        "# files = os.listdir(folder_path)\n",
        "\n",
        "# # loop through the files\n",
        "# for file in files:\n",
        "#   # check if the file name starts with a digit\n",
        "#   if file[0].isdigit():\n",
        "#     # if it does, delete the file\n",
        "#     os.remove(os.path.join(folder_path, file))\n"
      ]
    },
    {
      "cell_type": "code",
      "execution_count": 9,
      "metadata": {
        "id": "5hymWGEE-qa2"
      },
      "outputs": [],
      "source": [
        "# len(os.listdir(AUDIO_ROOT)), len(os.listdir(TXT_ROOT))"
      ]
    },
    {
      "cell_type": "code",
      "execution_count": 10,
      "metadata": {
        "id": "gS2S6d-T56zs"
      },
      "outputs": [],
      "source": [
        "import librosa\n",
        "import torch\n",
        "import pandas as pd\n",
        "import torchaudio\n",
        "import glob\n",
        "import pandas as pd\n",
        "\n",
        "from torchaudio_augmentations import PitchShift, RandomApply, Compose, ComposeMany, Delay, Gain,HighPassFilter, LowPassFilter,PolarityInversion, RandomResizedCrop, Reverb, Reverse, HighLowPass, Noise\n",
        "from audio_augmentations import *\n",
        "DEVICE = \"cuda\" if torch.cuda.is_available() else \"cpu\"\n"
      ]
    },
    {
      "cell_type": "code",
      "execution_count": 11,
      "metadata": {
        "id": "Tot3bc48em7e"
      },
      "outputs": [],
      "source": [
        "import os\n",
        "audio_paths = glob.glob(AUDIO_ROOT)\n",
        "txt_paths = glob.glob(TXT_ROOT)\n"
      ]
    },
    {
      "cell_type": "markdown",
      "source": [
        "## Creating a dataframe for all transcripts and their corresponding audios"
      ],
      "metadata": {
        "id": "tCo7hop0ArDQ"
      }
    },
    {
      "cell_type": "code",
      "execution_count": 12,
      "metadata": {
        "id": "aqjJtDdkiHaF"
      },
      "outputs": [],
      "source": [
        "###### Looping in texts\n",
        "\n",
        "# audios = sorted(glob.glob(AUDIO_ROOT))\n",
        "texts = sorted(glob.glob(TXT_ROOT))"
      ]
    },
    {
      "cell_type": "code",
      "execution_count": 13,
      "metadata": {
        "id": "2GPvkm4w7AMz"
      },
      "outputs": [],
      "source": [
        "import re\n",
        "chars_to_ignore_regex = '[\\,\\?\\.\\!\\-\\;\\:\\\"\\[\\]\\_\\/]'\n",
        "sentences = []\n",
        "for txts in texts:\n",
        "  with open(txts,'r') as firstfile:   \n",
        "  # read content from first file\n",
        "    for line in firstfile:\n",
        "      text = line.strip()\n",
        "      text_cleaned = re.sub(chars_to_ignore_regex, '', text).lower() + \" \"\n",
        "      sentences.append(text_cleaned)"
      ]
    },
    {
      "cell_type": "code",
      "execution_count": 14,
      "metadata": {
        "id": "tKxGZuj00LSV"
      },
      "outputs": [],
      "source": [
        "# initialize list elements\n",
        "# sentences\n",
        "# Creating a dataframe of cleaned (pre-processed )transcripts\n",
        "df = pd.DataFrame(sentences, columns=['text'])"
      ]
    },
    {
      "cell_type": "code",
      "execution_count": 15,
      "metadata": {
        "colab": {
          "base_uri": "https://localhost:8080/",
          "height": 363
        },
        "id": "hL6K0w8eERPH",
        "outputId": "d9abf718-c515-4f9d-c260-8f897374a2cb"
      },
      "outputs": [
        {
          "output_type": "execute_result",
          "data": {
            "text/plain": [
              "                                                text\n",
              "0                             say ahpeee repeatedly \n",
              "1                             say ahpeee repeatedly \n",
              "2                          say pahtahkah repeatedly \n",
              "3                             say eeepah repeatedly \n",
              "4           relax your mouth in its normal position \n",
              "5                                             stick \n",
              "6                     tear as in tear up that paper \n",
              "7  except in the winter when the ooze or snow or ...\n",
              "8                                               pat \n",
              "9                                                up "
            ],
            "text/html": [
              "\n",
              "  <div id=\"df-3702f496-eb0d-48bc-a4dd-81cc9811e454\">\n",
              "    <div class=\"colab-df-container\">\n",
              "      <div>\n",
              "<style scoped>\n",
              "    .dataframe tbody tr th:only-of-type {\n",
              "        vertical-align: middle;\n",
              "    }\n",
              "\n",
              "    .dataframe tbody tr th {\n",
              "        vertical-align: top;\n",
              "    }\n",
              "\n",
              "    .dataframe thead th {\n",
              "        text-align: right;\n",
              "    }\n",
              "</style>\n",
              "<table border=\"1\" class=\"dataframe\">\n",
              "  <thead>\n",
              "    <tr style=\"text-align: right;\">\n",
              "      <th></th>\n",
              "      <th>text</th>\n",
              "    </tr>\n",
              "  </thead>\n",
              "  <tbody>\n",
              "    <tr>\n",
              "      <th>0</th>\n",
              "      <td>say ahpeee repeatedly</td>\n",
              "    </tr>\n",
              "    <tr>\n",
              "      <th>1</th>\n",
              "      <td>say ahpeee repeatedly</td>\n",
              "    </tr>\n",
              "    <tr>\n",
              "      <th>2</th>\n",
              "      <td>say pahtahkah repeatedly</td>\n",
              "    </tr>\n",
              "    <tr>\n",
              "      <th>3</th>\n",
              "      <td>say eeepah repeatedly</td>\n",
              "    </tr>\n",
              "    <tr>\n",
              "      <th>4</th>\n",
              "      <td>relax your mouth in its normal position</td>\n",
              "    </tr>\n",
              "    <tr>\n",
              "      <th>5</th>\n",
              "      <td>stick</td>\n",
              "    </tr>\n",
              "    <tr>\n",
              "      <th>6</th>\n",
              "      <td>tear as in tear up that paper</td>\n",
              "    </tr>\n",
              "    <tr>\n",
              "      <th>7</th>\n",
              "      <td>except in the winter when the ooze or snow or ...</td>\n",
              "    </tr>\n",
              "    <tr>\n",
              "      <th>8</th>\n",
              "      <td>pat</td>\n",
              "    </tr>\n",
              "    <tr>\n",
              "      <th>9</th>\n",
              "      <td>up</td>\n",
              "    </tr>\n",
              "  </tbody>\n",
              "</table>\n",
              "</div>\n",
              "      <button class=\"colab-df-convert\" onclick=\"convertToInteractive('df-3702f496-eb0d-48bc-a4dd-81cc9811e454')\"\n",
              "              title=\"Convert this dataframe to an interactive table.\"\n",
              "              style=\"display:none;\">\n",
              "        \n",
              "  <svg xmlns=\"http://www.w3.org/2000/svg\" height=\"24px\"viewBox=\"0 0 24 24\"\n",
              "       width=\"24px\">\n",
              "    <path d=\"M0 0h24v24H0V0z\" fill=\"none\"/>\n",
              "    <path d=\"M18.56 5.44l.94 2.06.94-2.06 2.06-.94-2.06-.94-.94-2.06-.94 2.06-2.06.94zm-11 1L8.5 8.5l.94-2.06 2.06-.94-2.06-.94L8.5 2.5l-.94 2.06-2.06.94zm10 10l.94 2.06.94-2.06 2.06-.94-2.06-.94-.94-2.06-.94 2.06-2.06.94z\"/><path d=\"M17.41 7.96l-1.37-1.37c-.4-.4-.92-.59-1.43-.59-.52 0-1.04.2-1.43.59L10.3 9.45l-7.72 7.72c-.78.78-.78 2.05 0 2.83L4 21.41c.39.39.9.59 1.41.59.51 0 1.02-.2 1.41-.59l7.78-7.78 2.81-2.81c.8-.78.8-2.07 0-2.86zM5.41 20L4 18.59l7.72-7.72 1.47 1.35L5.41 20z\"/>\n",
              "  </svg>\n",
              "      </button>\n",
              "      \n",
              "  <style>\n",
              "    .colab-df-container {\n",
              "      display:flex;\n",
              "      flex-wrap:wrap;\n",
              "      gap: 12px;\n",
              "    }\n",
              "\n",
              "    .colab-df-convert {\n",
              "      background-color: #E8F0FE;\n",
              "      border: none;\n",
              "      border-radius: 50%;\n",
              "      cursor: pointer;\n",
              "      display: none;\n",
              "      fill: #1967D2;\n",
              "      height: 32px;\n",
              "      padding: 0 0 0 0;\n",
              "      width: 32px;\n",
              "    }\n",
              "\n",
              "    .colab-df-convert:hover {\n",
              "      background-color: #E2EBFA;\n",
              "      box-shadow: 0px 1px 2px rgba(60, 64, 67, 0.3), 0px 1px 3px 1px rgba(60, 64, 67, 0.15);\n",
              "      fill: #174EA6;\n",
              "    }\n",
              "\n",
              "    [theme=dark] .colab-df-convert {\n",
              "      background-color: #3B4455;\n",
              "      fill: #D2E3FC;\n",
              "    }\n",
              "\n",
              "    [theme=dark] .colab-df-convert:hover {\n",
              "      background-color: #434B5C;\n",
              "      box-shadow: 0px 1px 3px 1px rgba(0, 0, 0, 0.15);\n",
              "      filter: drop-shadow(0px 1px 2px rgba(0, 0, 0, 0.3));\n",
              "      fill: #FFFFFF;\n",
              "    }\n",
              "  </style>\n",
              "\n",
              "      <script>\n",
              "        const buttonEl =\n",
              "          document.querySelector('#df-3702f496-eb0d-48bc-a4dd-81cc9811e454 button.colab-df-convert');\n",
              "        buttonEl.style.display =\n",
              "          google.colab.kernel.accessAllowed ? 'block' : 'none';\n",
              "\n",
              "        async function convertToInteractive(key) {\n",
              "          const element = document.querySelector('#df-3702f496-eb0d-48bc-a4dd-81cc9811e454');\n",
              "          const dataTable =\n",
              "            await google.colab.kernel.invokeFunction('convertToInteractive',\n",
              "                                                     [key], {});\n",
              "          if (!dataTable) return;\n",
              "\n",
              "          const docLinkHtml = 'Like what you see? Visit the ' +\n",
              "            '<a target=\"_blank\" href=https://colab.research.google.com/notebooks/data_table.ipynb>data table notebook</a>'\n",
              "            + ' to learn more about interactive tables.';\n",
              "          element.innerHTML = '';\n",
              "          dataTable['output_type'] = 'display_data';\n",
              "          await google.colab.output.renderOutput(dataTable, element);\n",
              "          const docLink = document.createElement('div');\n",
              "          docLink.innerHTML = docLinkHtml;\n",
              "          element.appendChild(docLink);\n",
              "        }\n",
              "      </script>\n",
              "    </div>\n",
              "  </div>\n",
              "  "
            ]
          },
          "metadata": {},
          "execution_count": 15
        }
      ],
      "source": [
        "df.head(10)"
      ]
    },
    {
      "cell_type": "code",
      "execution_count": 16,
      "metadata": {
        "colab": {
          "base_uri": "https://localhost:8080/",
          "height": 75
        },
        "id": "PxIlfCdw-qa4",
        "outputId": "e653dc68-94c1-429e-d3a8-e24aa27d0884"
      },
      "outputs": [
        {
          "output_type": "execute_result",
          "data": {
            "text/plain": [
              "<IPython.lib.display.Audio object>"
            ],
            "text/html": [
              "\n",
              "                <audio  controls=\"controls\" >\n",
              "                    <source src=\"data:audio/wav;base64,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\" type=\"audio/wav\" />\n",
              "                    Your browser does not support the audio element.\n",
              "                </audio>\n",
              "              "
            ]
          },
          "metadata": {},
          "execution_count": 16
        }
      ],
      "source": [
        "import librosa\n",
        "import IPython.display as ipd\n",
        "audio, sample_rate = librosa.load('/content/drive/MyDrive/IDL/IDL_FINAL_DATASET/audio/F04_S2_0249.wav')\n",
        "ipd.Audio(audio, rate=sample_rate)"
      ]
    },
    {
      "cell_type": "markdown",
      "metadata": {
        "id": "b7pZXhh0NS9J"
      },
      "source": []
    },
    {
      "cell_type": "code",
      "execution_count": 17,
      "metadata": {
        "id": "4ddaQmfC7Pnz"
      },
      "outputs": [],
      "source": [
        "## Extracting all characters\n",
        "def extract_all_chars(dataframe):\n",
        "  all_text = \" \".join(dataframe[\"text\"])\n",
        "  vocab = list(set(all_text))\n",
        "  return {\"vocab\": [vocab], \"all_text\": [all_text]}"
      ]
    },
    {
      "cell_type": "code",
      "execution_count": 18,
      "metadata": {
        "id": "PC99m83L73mI"
      },
      "outputs": [],
      "source": [
        "vocabs = extract_all_chars(df)"
      ]
    },
    {
      "cell_type": "code",
      "execution_count": 19,
      "metadata": {
        "id": "H8E3bmIjSJGN"
      },
      "outputs": [],
      "source": [
        "vocab_dict = {}\n",
        "for i in vocabs['vocab']:\n",
        "  for indx,j in enumerate(i):\n",
        "    vocab_dict[j] = indx"
      ]
    },
    {
      "cell_type": "code",
      "execution_count": 20,
      "metadata": {
        "id": "6jy7NSC7EoiO"
      },
      "outputs": [],
      "source": [
        "vocab_dict[\"|\"] = vocab_dict[' ']\n",
        "del vocab_dict[' ']"
      ]
    },
    {
      "cell_type": "code",
      "execution_count": 21,
      "metadata": {
        "id": "U2797qjhLaRv"
      },
      "outputs": [],
      "source": [
        "# vocab_dict[\"|\"] = vocab_dict[\" \"]  ## This will be added once the implementation starts working\n",
        "# del vocab_dict[\" \"]\n",
        "vocab_dict[\"[UNK]\"] = len(vocab_dict)"
      ]
    },
    {
      "cell_type": "code",
      "execution_count": 22,
      "metadata": {
        "colab": {
          "base_uri": "https://localhost:8080/"
        },
        "id": "i9q-FbIZcDhn",
        "outputId": "400dc66d-191d-409f-c92e-6bd19ccd4a4d"
      },
      "outputs": [
        {
          "output_type": "execute_result",
          "data": {
            "text/plain": [
              "40"
            ]
          },
          "metadata": {},
          "execution_count": 22
        }
      ],
      "source": [
        "vocab_dict[\"[PAD]\"] = len(vocab_dict)\n",
        "len(vocab_dict)"
      ]
    },
    {
      "cell_type": "markdown",
      "source": [
        "# Cool, now our vocabulary is complete and consists of 40 tokens, which means that the linear layer that we will\n",
        "#  add on top of the pretrained Wav2Vec2 checkpoint will have an output dimension of 59"
      ],
      "metadata": {
        "id": "2kndQ-N6CVht"
      }
    },
    {
      "cell_type": "code",
      "execution_count": 23,
      "metadata": {
        "id": "tASxmTpFS3Us"
      },
      "outputs": [],
      "source": [
        "# Saving the vocabulary as a json file.\n",
        "import json\n",
        "with open('vocab.json', 'w') as vocab_file:\n",
        "    json.dump(vocab_dict, vocab_file)"
      ]
    },
    {
      "cell_type": "markdown",
      "metadata": {
        "id": "R3juk2PZUQ1p"
      },
      "source": [
        "# Creating a Wav2Vec2CTCTokenizer"
      ]
    },
    {
      "cell_type": "code",
      "execution_count": 24,
      "metadata": {
        "id": "RvS3RO8_TdoQ"
      },
      "outputs": [],
      "source": [
        "# Using the json file to instantiate an object of the Wav2Vec2CTCTokenizer class.\n",
        "from transformers import Wav2Vec2CTCTokenizer\n",
        "tokenizer = Wav2Vec2CTCTokenizer(\"./vocab.json\", unk_token=\"[UNK]\", pad_token=\"[PAD]\", word_delimiter_token=\"|\")"
      ]
    },
    {
      "cell_type": "markdown",
      "source": [
        "# Setting up the trainer"
      ],
      "metadata": {
        "id": "29nwsYXOChUn"
      }
    },
    {
      "cell_type": "markdown",
      "metadata": {
        "id": "ggGagv_uyKt0"
      },
      "source": [
        "#Creating Wav2Vec2 Feature *Extractor*"
      ]
    },
    {
      "cell_type": "code",
      "execution_count": 25,
      "metadata": {
        "id": "L9pBQHdy-M8b"
      },
      "outputs": [],
      "source": [
        "from transformers import Wav2Vec2FeatureExtractor\n",
        "feature_extractor = Wav2Vec2FeatureExtractor(feature_size=1, sampling_rate=16000, padding_value=0.0, do_normalize=True, return_attention_mask=False)"
      ]
    },
    {
      "cell_type": "code",
      "execution_count": 26,
      "metadata": {
        "id": "S1T6-1SI-M_b"
      },
      "outputs": [],
      "source": [
        "from transformers import Wav2Vec2Processor\n",
        "processor = Wav2Vec2Processor(feature_extractor=feature_extractor, tokenizer=tokenizer)"
      ]
    },
    {
      "cell_type": "code",
      "execution_count": 27,
      "metadata": {
        "id": "qaEtggFDbjtk"
      },
      "outputs": [],
      "source": [
        "labels = []\n",
        "for txt in df[\"text\"]:\n",
        "  with processor.as_target_processor():\n",
        "      labels.append(processor(txt).input_ids)"
      ]
    },
    {
      "cell_type": "code",
      "execution_count": 28,
      "metadata": {
        "id": "hYvpGzj-k7iR"
      },
      "outputs": [],
      "source": [
        "df[\"labels\"] = labels"
      ]
    },
    {
      "cell_type": "code",
      "execution_count": 29,
      "metadata": {
        "colab": {
          "base_uri": "https://localhost:8080/",
          "height": 206
        },
        "id": "tHNM2Zdn-qa7",
        "outputId": "b8d2a780-93c0-4167-c68a-418cdebf26e8"
      },
      "outputs": [
        {
          "output_type": "execute_result",
          "data": {
            "text/plain": [
              "                                       text  \\\n",
              "0                    say ahpeee repeatedly    \n",
              "1                    say ahpeee repeatedly    \n",
              "2                 say pahtahkah repeatedly    \n",
              "3                    say eeepah repeatedly    \n",
              "4  relax your mouth in its normal position    \n",
              "\n",
              "                                              labels  \n",
              "0  [33, 26, 23, 18, 26, 29, 14, 24, 24, 24, 18, 3...  \n",
              "1  [33, 26, 23, 18, 26, 29, 14, 24, 24, 24, 18, 3...  \n",
              "2  [33, 26, 23, 18, 14, 26, 29, 32, 26, 29, 9, 26...  \n",
              "3  [33, 26, 23, 18, 24, 24, 24, 14, 26, 29, 18, 3...  \n",
              "4  [34, 24, 8, 26, 30, 18, 23, 17, 37, 34, 18, 20...  "
            ],
            "text/html": [
              "\n",
              "  <div id=\"df-5ebc0a65-2f3d-4029-9ade-27083b0a60a1\">\n",
              "    <div class=\"colab-df-container\">\n",
              "      <div>\n",
              "<style scoped>\n",
              "    .dataframe tbody tr th:only-of-type {\n",
              "        vertical-align: middle;\n",
              "    }\n",
              "\n",
              "    .dataframe tbody tr th {\n",
              "        vertical-align: top;\n",
              "    }\n",
              "\n",
              "    .dataframe thead th {\n",
              "        text-align: right;\n",
              "    }\n",
              "</style>\n",
              "<table border=\"1\" class=\"dataframe\">\n",
              "  <thead>\n",
              "    <tr style=\"text-align: right;\">\n",
              "      <th></th>\n",
              "      <th>text</th>\n",
              "      <th>labels</th>\n",
              "    </tr>\n",
              "  </thead>\n",
              "  <tbody>\n",
              "    <tr>\n",
              "      <th>0</th>\n",
              "      <td>say ahpeee repeatedly</td>\n",
              "      <td>[33, 26, 23, 18, 26, 29, 14, 24, 24, 24, 18, 3...</td>\n",
              "    </tr>\n",
              "    <tr>\n",
              "      <th>1</th>\n",
              "      <td>say ahpeee repeatedly</td>\n",
              "      <td>[33, 26, 23, 18, 26, 29, 14, 24, 24, 24, 18, 3...</td>\n",
              "    </tr>\n",
              "    <tr>\n",
              "      <th>2</th>\n",
              "      <td>say pahtahkah repeatedly</td>\n",
              "      <td>[33, 26, 23, 18, 14, 26, 29, 32, 26, 29, 9, 26...</td>\n",
              "    </tr>\n",
              "    <tr>\n",
              "      <th>3</th>\n",
              "      <td>say eeepah repeatedly</td>\n",
              "      <td>[33, 26, 23, 18, 24, 24, 24, 14, 26, 29, 18, 3...</td>\n",
              "    </tr>\n",
              "    <tr>\n",
              "      <th>4</th>\n",
              "      <td>relax your mouth in its normal position</td>\n",
              "      <td>[34, 24, 8, 26, 30, 18, 23, 17, 37, 34, 18, 20...</td>\n",
              "    </tr>\n",
              "  </tbody>\n",
              "</table>\n",
              "</div>\n",
              "      <button class=\"colab-df-convert\" onclick=\"convertToInteractive('df-5ebc0a65-2f3d-4029-9ade-27083b0a60a1')\"\n",
              "              title=\"Convert this dataframe to an interactive table.\"\n",
              "              style=\"display:none;\">\n",
              "        \n",
              "  <svg xmlns=\"http://www.w3.org/2000/svg\" height=\"24px\"viewBox=\"0 0 24 24\"\n",
              "       width=\"24px\">\n",
              "    <path d=\"M0 0h24v24H0V0z\" fill=\"none\"/>\n",
              "    <path d=\"M18.56 5.44l.94 2.06.94-2.06 2.06-.94-2.06-.94-.94-2.06-.94 2.06-2.06.94zm-11 1L8.5 8.5l.94-2.06 2.06-.94-2.06-.94L8.5 2.5l-.94 2.06-2.06.94zm10 10l.94 2.06.94-2.06 2.06-.94-2.06-.94-.94-2.06-.94 2.06-2.06.94z\"/><path d=\"M17.41 7.96l-1.37-1.37c-.4-.4-.92-.59-1.43-.59-.52 0-1.04.2-1.43.59L10.3 9.45l-7.72 7.72c-.78.78-.78 2.05 0 2.83L4 21.41c.39.39.9.59 1.41.59.51 0 1.02-.2 1.41-.59l7.78-7.78 2.81-2.81c.8-.78.8-2.07 0-2.86zM5.41 20L4 18.59l7.72-7.72 1.47 1.35L5.41 20z\"/>\n",
              "  </svg>\n",
              "      </button>\n",
              "      \n",
              "  <style>\n",
              "    .colab-df-container {\n",
              "      display:flex;\n",
              "      flex-wrap:wrap;\n",
              "      gap: 12px;\n",
              "    }\n",
              "\n",
              "    .colab-df-convert {\n",
              "      background-color: #E8F0FE;\n",
              "      border: none;\n",
              "      border-radius: 50%;\n",
              "      cursor: pointer;\n",
              "      display: none;\n",
              "      fill: #1967D2;\n",
              "      height: 32px;\n",
              "      padding: 0 0 0 0;\n",
              "      width: 32px;\n",
              "    }\n",
              "\n",
              "    .colab-df-convert:hover {\n",
              "      background-color: #E2EBFA;\n",
              "      box-shadow: 0px 1px 2px rgba(60, 64, 67, 0.3), 0px 1px 3px 1px rgba(60, 64, 67, 0.15);\n",
              "      fill: #174EA6;\n",
              "    }\n",
              "\n",
              "    [theme=dark] .colab-df-convert {\n",
              "      background-color: #3B4455;\n",
              "      fill: #D2E3FC;\n",
              "    }\n",
              "\n",
              "    [theme=dark] .colab-df-convert:hover {\n",
              "      background-color: #434B5C;\n",
              "      box-shadow: 0px 1px 3px 1px rgba(0, 0, 0, 0.15);\n",
              "      filter: drop-shadow(0px 1px 2px rgba(0, 0, 0, 0.3));\n",
              "      fill: #FFFFFF;\n",
              "    }\n",
              "  </style>\n",
              "\n",
              "      <script>\n",
              "        const buttonEl =\n",
              "          document.querySelector('#df-5ebc0a65-2f3d-4029-9ade-27083b0a60a1 button.colab-df-convert');\n",
              "        buttonEl.style.display =\n",
              "          google.colab.kernel.accessAllowed ? 'block' : 'none';\n",
              "\n",
              "        async function convertToInteractive(key) {\n",
              "          const element = document.querySelector('#df-5ebc0a65-2f3d-4029-9ade-27083b0a60a1');\n",
              "          const dataTable =\n",
              "            await google.colab.kernel.invokeFunction('convertToInteractive',\n",
              "                                                     [key], {});\n",
              "          if (!dataTable) return;\n",
              "\n",
              "          const docLinkHtml = 'Like what you see? Visit the ' +\n",
              "            '<a target=\"_blank\" href=https://colab.research.google.com/notebooks/data_table.ipynb>data table notebook</a>'\n",
              "            + ' to learn more about interactive tables.';\n",
              "          element.innerHTML = '';\n",
              "          dataTable['output_type'] = 'display_data';\n",
              "          await google.colab.output.renderOutput(dataTable, element);\n",
              "          const docLink = document.createElement('div');\n",
              "          docLink.innerHTML = docLinkHtml;\n",
              "          element.appendChild(docLink);\n",
              "        }\n",
              "      </script>\n",
              "    </div>\n",
              "  </div>\n",
              "  "
            ]
          },
          "metadata": {},
          "execution_count": 29
        }
      ],
      "source": [
        "df.head()"
      ]
    },
    {
      "cell_type": "code",
      "execution_count": 30,
      "metadata": {
        "colab": {
          "base_uri": "https://localhost:8080/",
          "height": 424
        },
        "id": "y69lUSl_-qa8",
        "outputId": "645122bf-0600-4d54-f0a3-7a44681ab804"
      },
      "outputs": [
        {
          "output_type": "execute_result",
          "data": {
            "text/plain": [
              "                                       text  \\\n",
              "0                    say ahpeee repeatedly    \n",
              "1                    say ahpeee repeatedly    \n",
              "2                 say pahtahkah repeatedly    \n",
              "3                    say eeepah repeatedly    \n",
              "4  relax your mouth in its normal position    \n",
              "\n",
              "                                              labels  \\\n",
              "0  [33, 26, 23, 18, 26, 29, 14, 24, 24, 24, 18, 3...   \n",
              "1  [33, 26, 23, 18, 26, 29, 14, 24, 24, 24, 18, 3...   \n",
              "2  [33, 26, 23, 18, 14, 26, 29, 32, 26, 29, 9, 26...   \n",
              "3  [33, 26, 23, 18, 24, 24, 24, 14, 26, 29, 18, 3...   \n",
              "4  [34, 24, 8, 26, 30, 18, 23, 17, 37, 34, 18, 20...   \n",
              "\n",
              "                                         audio_paths  \\\n",
              "0  /content/drive/MyDrive/IDL/IDL_FINAL_DATASET/a...   \n",
              "1  /content/drive/MyDrive/IDL/IDL_FINAL_DATASET/a...   \n",
              "2  /content/drive/MyDrive/IDL/IDL_FINAL_DATASET/a...   \n",
              "3  /content/drive/MyDrive/IDL/IDL_FINAL_DATASET/a...   \n",
              "4  /content/drive/MyDrive/IDL/IDL_FINAL_DATASET/a...   \n",
              "\n",
              "                                           txt_paths  \n",
              "0  /content/drive/MyDrive/IDL/IDL_FINAL_DATASET/t...  \n",
              "1  /content/drive/MyDrive/IDL/IDL_FINAL_DATASET/t...  \n",
              "2  /content/drive/MyDrive/IDL/IDL_FINAL_DATASET/t...  \n",
              "3  /content/drive/MyDrive/IDL/IDL_FINAL_DATASET/t...  \n",
              "4  /content/drive/MyDrive/IDL/IDL_FINAL_DATASET/t...  "
            ],
            "text/html": [
              "\n",
              "  <div id=\"df-5a6610e5-975c-45e9-89ee-713210262628\">\n",
              "    <div class=\"colab-df-container\">\n",
              "      <div>\n",
              "<style scoped>\n",
              "    .dataframe tbody tr th:only-of-type {\n",
              "        vertical-align: middle;\n",
              "    }\n",
              "\n",
              "    .dataframe tbody tr th {\n",
              "        vertical-align: top;\n",
              "    }\n",
              "\n",
              "    .dataframe thead th {\n",
              "        text-align: right;\n",
              "    }\n",
              "</style>\n",
              "<table border=\"1\" class=\"dataframe\">\n",
              "  <thead>\n",
              "    <tr style=\"text-align: right;\">\n",
              "      <th></th>\n",
              "      <th>text</th>\n",
              "      <th>labels</th>\n",
              "      <th>audio_paths</th>\n",
              "      <th>txt_paths</th>\n",
              "    </tr>\n",
              "  </thead>\n",
              "  <tbody>\n",
              "    <tr>\n",
              "      <th>0</th>\n",
              "      <td>say ahpeee repeatedly</td>\n",
              "      <td>[33, 26, 23, 18, 26, 29, 14, 24, 24, 24, 18, 3...</td>\n",
              "      <td>/content/drive/MyDrive/IDL/IDL_FINAL_DATASET/a...</td>\n",
              "      <td>/content/drive/MyDrive/IDL/IDL_FINAL_DATASET/t...</td>\n",
              "    </tr>\n",
              "    <tr>\n",
              "      <th>1</th>\n",
              "      <td>say ahpeee repeatedly</td>\n",
              "      <td>[33, 26, 23, 18, 26, 29, 14, 24, 24, 24, 18, 3...</td>\n",
              "      <td>/content/drive/MyDrive/IDL/IDL_FINAL_DATASET/a...</td>\n",
              "      <td>/content/drive/MyDrive/IDL/IDL_FINAL_DATASET/t...</td>\n",
              "    </tr>\n",
              "    <tr>\n",
              "      <th>2</th>\n",
              "      <td>say pahtahkah repeatedly</td>\n",
              "      <td>[33, 26, 23, 18, 14, 26, 29, 32, 26, 29, 9, 26...</td>\n",
              "      <td>/content/drive/MyDrive/IDL/IDL_FINAL_DATASET/a...</td>\n",
              "      <td>/content/drive/MyDrive/IDL/IDL_FINAL_DATASET/t...</td>\n",
              "    </tr>\n",
              "    <tr>\n",
              "      <th>3</th>\n",
              "      <td>say eeepah repeatedly</td>\n",
              "      <td>[33, 26, 23, 18, 24, 24, 24, 14, 26, 29, 18, 3...</td>\n",
              "      <td>/content/drive/MyDrive/IDL/IDL_FINAL_DATASET/a...</td>\n",
              "      <td>/content/drive/MyDrive/IDL/IDL_FINAL_DATASET/t...</td>\n",
              "    </tr>\n",
              "    <tr>\n",
              "      <th>4</th>\n",
              "      <td>relax your mouth in its normal position</td>\n",
              "      <td>[34, 24, 8, 26, 30, 18, 23, 17, 37, 34, 18, 20...</td>\n",
              "      <td>/content/drive/MyDrive/IDL/IDL_FINAL_DATASET/a...</td>\n",
              "      <td>/content/drive/MyDrive/IDL/IDL_FINAL_DATASET/t...</td>\n",
              "    </tr>\n",
              "  </tbody>\n",
              "</table>\n",
              "</div>\n",
              "      <button class=\"colab-df-convert\" onclick=\"convertToInteractive('df-5a6610e5-975c-45e9-89ee-713210262628')\"\n",
              "              title=\"Convert this dataframe to an interactive table.\"\n",
              "              style=\"display:none;\">\n",
              "        \n",
              "  <svg xmlns=\"http://www.w3.org/2000/svg\" height=\"24px\"viewBox=\"0 0 24 24\"\n",
              "       width=\"24px\">\n",
              "    <path d=\"M0 0h24v24H0V0z\" fill=\"none\"/>\n",
              "    <path d=\"M18.56 5.44l.94 2.06.94-2.06 2.06-.94-2.06-.94-.94-2.06-.94 2.06-2.06.94zm-11 1L8.5 8.5l.94-2.06 2.06-.94-2.06-.94L8.5 2.5l-.94 2.06-2.06.94zm10 10l.94 2.06.94-2.06 2.06-.94-2.06-.94-.94-2.06-.94 2.06-2.06.94z\"/><path d=\"M17.41 7.96l-1.37-1.37c-.4-.4-.92-.59-1.43-.59-.52 0-1.04.2-1.43.59L10.3 9.45l-7.72 7.72c-.78.78-.78 2.05 0 2.83L4 21.41c.39.39.9.59 1.41.59.51 0 1.02-.2 1.41-.59l7.78-7.78 2.81-2.81c.8-.78.8-2.07 0-2.86zM5.41 20L4 18.59l7.72-7.72 1.47 1.35L5.41 20z\"/>\n",
              "  </svg>\n",
              "      </button>\n",
              "      \n",
              "  <style>\n",
              "    .colab-df-container {\n",
              "      display:flex;\n",
              "      flex-wrap:wrap;\n",
              "      gap: 12px;\n",
              "    }\n",
              "\n",
              "    .colab-df-convert {\n",
              "      background-color: #E8F0FE;\n",
              "      border: none;\n",
              "      border-radius: 50%;\n",
              "      cursor: pointer;\n",
              "      display: none;\n",
              "      fill: #1967D2;\n",
              "      height: 32px;\n",
              "      padding: 0 0 0 0;\n",
              "      width: 32px;\n",
              "    }\n",
              "\n",
              "    .colab-df-convert:hover {\n",
              "      background-color: #E2EBFA;\n",
              "      box-shadow: 0px 1px 2px rgba(60, 64, 67, 0.3), 0px 1px 3px 1px rgba(60, 64, 67, 0.15);\n",
              "      fill: #174EA6;\n",
              "    }\n",
              "\n",
              "    [theme=dark] .colab-df-convert {\n",
              "      background-color: #3B4455;\n",
              "      fill: #D2E3FC;\n",
              "    }\n",
              "\n",
              "    [theme=dark] .colab-df-convert:hover {\n",
              "      background-color: #434B5C;\n",
              "      box-shadow: 0px 1px 3px 1px rgba(0, 0, 0, 0.15);\n",
              "      filter: drop-shadow(0px 1px 2px rgba(0, 0, 0, 0.3));\n",
              "      fill: #FFFFFF;\n",
              "    }\n",
              "  </style>\n",
              "\n",
              "      <script>\n",
              "        const buttonEl =\n",
              "          document.querySelector('#df-5a6610e5-975c-45e9-89ee-713210262628 button.colab-df-convert');\n",
              "        buttonEl.style.display =\n",
              "          google.colab.kernel.accessAllowed ? 'block' : 'none';\n",
              "\n",
              "        async function convertToInteractive(key) {\n",
              "          const element = document.querySelector('#df-5a6610e5-975c-45e9-89ee-713210262628');\n",
              "          const dataTable =\n",
              "            await google.colab.kernel.invokeFunction('convertToInteractive',\n",
              "                                                     [key], {});\n",
              "          if (!dataTable) return;\n",
              "\n",
              "          const docLinkHtml = 'Like what you see? Visit the ' +\n",
              "            '<a target=\"_blank\" href=https://colab.research.google.com/notebooks/data_table.ipynb>data table notebook</a>'\n",
              "            + ' to learn more about interactive tables.';\n",
              "          element.innerHTML = '';\n",
              "          dataTable['output_type'] = 'display_data';\n",
              "          await google.colab.output.renderOutput(dataTable, element);\n",
              "          const docLink = document.createElement('div');\n",
              "          docLink.innerHTML = docLinkHtml;\n",
              "          element.appendChild(docLink);\n",
              "        }\n",
              "      </script>\n",
              "    </div>\n",
              "  </div>\n",
              "  "
            ]
          },
          "metadata": {},
          "execution_count": 30
        }
      ],
      "source": [
        "audios = sorted(glob.glob(AUDIO_ROOT))\n",
        "texts = sorted(glob.glob(TXT_ROOT))\n",
        "\n",
        "df[\"audio_paths\"] = audios\n",
        "df[\"txt_paths\"] = texts\n",
        "df.head()"
      ]
    },
    {
      "cell_type": "code",
      "execution_count": 31,
      "metadata": {
        "id": "Z4keZLNS-qa8"
      },
      "outputs": [],
      "source": [
        "import os \n",
        "\n",
        "input_values = []\n",
        "input_lengths = []\n",
        "labs = []\n",
        "check = []\n",
        "labelss = []\n",
        "\n",
        "for i in range(len(df.labels)):\n",
        "\n",
        "  test = df[\"audio_paths\"][i].split('/')[-1]\n",
        "\n",
        "  if len(df.labels[i]) <=  32 and (test.startswith(\"FC\") or test.startswith(\"MC\")):\n",
        "\n",
        "    audio_f = librosa.load(df.audio_paths[i], sr=None)\n",
        "\n",
        "    input_values.append(audio_f[0])\n",
        "\n",
        "    input_lengths.append(len(audio_f[0]))\n",
        "\n",
        "    labs.append(df[\"labels\"][i])\n",
        "\n",
        "    labelss.append(df.labels[i])\n",
        "\n",
        "  else:\n",
        "\n",
        "    continue"
      ]
    },
    {
      "cell_type": "code",
      "execution_count": 32,
      "metadata": {
        "id": "h7hwnoUfkFMp"
      },
      "outputs": [],
      "source": [
        "# import os\n",
        "# audio_paths = sorted(glob.glob(AUDIO_ROOT))\n",
        "# txt_paths = glob.glob(TXT_ROOT)\n",
        "# input_values = []\n",
        "# input_lengths = []\n",
        "# labs = []\n",
        "# for i in range(len(audio_paths)): \n",
        "\n",
        "#     audio_f = librosa.load(audio_paths[i], sr=None)\n",
        "#     input_values.append(audio_f[0])\n",
        "#     input_lengths.append(len(audio_f[0]))\n",
        "#     labs.append(df[\"labels\"][i])"
      ]
    },
    {
      "cell_type": "code",
      "execution_count": 33,
      "metadata": {
        "colab": {
          "base_uri": "https://localhost:8080/"
        },
        "id": "7SNO_sP7EIlF",
        "outputId": "8fbf70e5-4dbe-4535-fa29-cdae66bea63d"
      },
      "outputs": [
        {
          "output_type": "execute_result",
          "data": {
            "text/plain": [
              "(73600,)"
            ]
          },
          "metadata": {},
          "execution_count": 33
        }
      ],
      "source": [
        "librosa.load(audio_paths[0], sr=None)[0].shape"
      ]
    },
    {
      "cell_type": "code",
      "execution_count": 34,
      "metadata": {
        "colab": {
          "base_uri": "https://localhost:8080/"
        },
        "id": "JlMe8JsoFs3s",
        "outputId": "5f654dbf-9511-43aa-a546-5347b6f19bef"
      },
      "outputs": [
        {
          "output_type": "execute_result",
          "data": {
            "text/plain": [
              "array([-0.01657145, -0.01822065, -0.00821408, ..., -0.01123643,\n",
              "        0.00030647, -0.00368182], dtype=float32)"
            ]
          },
          "metadata": {},
          "execution_count": 34
        }
      ],
      "source": [
        "librosa.load(audio_paths[0], sr=4000)[0]\n"
      ]
    },
    {
      "cell_type": "code",
      "execution_count": 35,
      "metadata": {
        "id": "khdrl7DalYyu"
      },
      "outputs": [],
      "source": [
        "from datasets.dataset_dict import DatasetDict\n",
        "from datasets import Dataset\n",
        "import numpy as np"
      ]
    },
    {
      "cell_type": "code",
      "execution_count": 36,
      "metadata": {
        "colab": {
          "base_uri": "https://localhost:8080/"
        },
        "id": "PAPGl345-qa9",
        "outputId": "66af844f-1d61-4563-f9cd-e2694bb12427"
      },
      "outputs": [
        {
          "output_type": "execute_result",
          "data": {
            "text/plain": [
              "(5331, 5331)"
            ]
          },
          "metadata": {},
          "execution_count": 36
        }
      ],
      "source": [
        "len(input_values), len(labs)"
      ]
    },
    {
      "cell_type": "code",
      "execution_count": 37,
      "metadata": {
        "colab": {
          "base_uri": "https://localhost:8080/"
        },
        "id": "JXBjNrD3mZvB",
        "outputId": "9c0df196-835f-41b7-f1de-5040e390837d"
      },
      "outputs": [
        {
          "output_type": "stream",
          "name": "stderr",
          "text": [
            "<ipython-input-37-4a627c86db4c>:1: VisibleDeprecationWarning: Creating an ndarray from ragged nested sequences (which is a list-or-tuple of lists-or-tuples-or ndarrays with different lengths or shapes) is deprecated. If you meant to do this, you must specify 'dtype=object' when creating the ndarray.\n",
            "  train = {\"input_values\":np.array(input_values[:5000]), \"input_length\":input_lengths[:5000], \"labels\":np.array(labs[:5000])}\n",
            "<ipython-input-37-4a627c86db4c>:5: VisibleDeprecationWarning: Creating an ndarray from ragged nested sequences (which is a list-or-tuple of lists-or-tuples-or ndarrays with different lengths or shapes) is deprecated. If you meant to do this, you must specify 'dtype=object' when creating the ndarray.\n",
            "  test = {\"input_values\":np.array(input_values[5000:]), \"input_length\":input_lengths[5000:], \"labels\":np.array(labs[5000:])}\n"
          ]
        }
      ],
      "source": [
        "train = {\"input_values\":np.array(input_values[:5000]), \"input_length\":input_lengths[:5000], \"labels\":np.array(labs[:5000])}\n",
        "train_d = Dataset.from_dict(train)\n",
        "\n",
        "# for test\n",
        "test = {\"input_values\":np.array(input_values[5000:]), \"input_length\":input_lengths[5000:], \"labels\":np.array(labs[5000:])}\n",
        "test_d = Dataset.from_dict(test)"
      ]
    },
    {
      "cell_type": "code",
      "execution_count": 38,
      "metadata": {
        "id": "tlHjYC0F-qa9"
      },
      "outputs": [],
      "source": [
        "# train = {\"input_values\":np.array(input_values), \"input_length\":input_lengths, \"labels\":np.array(labs)}\n",
        "# train_d = Dataset.from_dict(train)\n",
        "\n",
        "# # for test\n",
        "# test = {\"input_values\":np.array(input_values), \"input_length\":input_lengths, \"labels\":np.array(labs)}\n",
        "# test_d = Dataset.from_dict(test)"
      ]
    },
    {
      "cell_type": "code",
      "execution_count": 39,
      "metadata": {
        "colab": {
          "base_uri": "https://localhost:8080/"
        },
        "id": "Zna8yrlfq9VE",
        "outputId": "1caed50b-cff6-46d4-98ba-095ae8fe61e2"
      },
      "outputs": [
        {
          "output_type": "execute_result",
          "data": {
            "text/plain": [
              "DatasetDict({\n",
              "    train: Dataset({\n",
              "        features: ['input_values', 'input_length', 'labels'],\n",
              "        num_rows: 5000\n",
              "    })\n",
              "    test: Dataset({\n",
              "        features: ['input_values', 'input_length', 'labels'],\n",
              "        num_rows: 331\n",
              "    })\n",
              "})"
            ]
          },
          "metadata": {},
          "execution_count": 39
        }
      ],
      "source": [
        "dta_dict = DatasetDict({\"train\": train_d, \"test\":test_d})\n",
        "dta_dict"
      ]
    },
    {
      "cell_type": "code",
      "execution_count": 40,
      "metadata": {
        "colab": {
          "base_uri": "https://localhost:8080/",
          "height": 118,
          "referenced_widgets": [
            "8edf3719ecc648109e91ff8e1fedd162",
            "4ec9778aae8241d58c976727aa73c966",
            "3ae6e1fcb20a45acb65703f507d088f7",
            "2d3eb38a2084401ab30df62edcdabb14",
            "c04eb684c93749479020a0ca90c59936",
            "742559febaf84142b2ae563ed31eba98",
            "585c1aef228a4cc4a7ca86d8a6bd8365",
            "1caafea622ed490cbc7273434d0a31c8",
            "a9e5e9f595d34c7490a652de19351ed2",
            "8415faae5c8e4080a8d21071761bf437",
            "063dd71803ec47de80aacf7e97b8146f",
            "d842b47df5f24bcb806d1087c0fae428",
            "d16bf001ab4a4ef29fd756ad8c9893e0",
            "ba3244131a034c8791b701c4deb60952",
            "80b70479232f4613bdea4534eec8ec4d",
            "83e8be75416d470595804c54e15f546e",
            "a99569dfd13e49a18d6ae2a3964ede77",
            "f1d2e8a3477c4f27b1475958b59e1a85",
            "b2bcca5cb19a4d56ad3aa74e049e11b1",
            "0de2173296f34e658f8bf88128b09881",
            "91f43555d62a4c37bc3a0f47627e3148",
            "c3e634c61ab547978b115c0d193b65ef"
          ]
        },
        "id": "JUdqEZ_xNxf4",
        "outputId": "f866827a-4a0c-4d1e-faf7-337240215485"
      },
      "outputs": [
        {
          "output_type": "stream",
          "name": "stderr",
          "text": [
            "WARNING:datasets.fingerprint:Parameter 'function'=<function <lambda> at 0x7f85bd4a4c10> of the transform datasets.arrow_dataset.Dataset.filter@2.0.1 couldn't be hashed properly, a random hash was used instead. Make sure your transforms and parameters are serializable with pickle or dill for the dataset fingerprinting and caching to work. If you reuse this transform, the caching mechanism will consider it to be different from the previous calls and recompute everything. This warning is only showed once. Subsequent hashing failures won't be showed.\n"
          ]
        },
        {
          "output_type": "display_data",
          "data": {
            "text/plain": [
              "  0%|          | 0/5 [00:00<?, ?ba/s]"
            ],
            "application/vnd.jupyter.widget-view+json": {
              "version_major": 2,
              "version_minor": 0,
              "model_id": "8edf3719ecc648109e91ff8e1fedd162"
            }
          },
          "metadata": {}
        },
        {
          "output_type": "display_data",
          "data": {
            "text/plain": [
              "  0%|          | 0/1 [00:00<?, ?ba/s]"
            ],
            "application/vnd.jupyter.widget-view+json": {
              "version_major": 2,
              "version_minor": 0,
              "model_id": "d842b47df5f24bcb806d1087c0fae428"
            }
          },
          "metadata": {}
        }
      ],
      "source": [
        "max_input_length_in_sec = 4.0\n",
        "dta_dict[\"train\"] = dta_dict[\"train\"].filter(lambda x: x < max_input_length_in_sec * processor.feature_extractor.sampling_rate, input_columns=[\"input_length\"])\n",
        "\n",
        "max_input_length_in_sec = 4.0\n",
        "dta_dict[\"test\"] = dta_dict[\"test\"].filter(lambda x: x < max_input_length_in_sec * processor.feature_extractor.sampling_rate, input_columns=[\"input_length\"])"
      ]
    },
    {
      "cell_type": "code",
      "execution_count": 41,
      "metadata": {
        "id": "1chMVzmk-qa-"
      },
      "outputs": [],
      "source": [
        "from datasets import ClassLabel\n",
        "import random\n",
        "import pandas as pd\n",
        "from IPython.display import display, HTML\n",
        "\n",
        "def show_random_elements(dataset, num_examples=10):\n",
        "    assert num_examples <= len(dataset), \"Can't pick more elements than there are in the dataset.\"\n",
        "    picks = []\n",
        "    for _ in range(num_examples):\n",
        "        pick = random.randint(0, len(dataset)-1)\n",
        "        while pick in picks:\n",
        "            pick = random.randint(0, len(dataset)-1)\n",
        "        picks.append(pick)\n",
        "    \n",
        "    df = pd.DataFrame(dataset[picks])\n",
        "    display(HTML(df.to_html()))"
      ]
    },
    {
      "cell_type": "code",
      "execution_count": 42,
      "metadata": {
        "id": "3crLNCJw-qa-"
      },
      "outputs": [],
      "source": [
        "# show_random_elements(dta_dict[\"train\"], num_examples=1)"
      ]
    },
    {
      "cell_type": "code",
      "execution_count": 43,
      "metadata": {
        "id": "_eGR1ZpHz4PN"
      },
      "outputs": [],
      "source": [
        "import torch\n",
        "\n",
        "from dataclasses import dataclass, field\n",
        "from typing import Any, Dict, List, Optional, Union\n",
        "\n",
        "@dataclass\n",
        "class DataCollatorCTCWithPadding:\n",
        "    \"\"\"\n",
        "    Data collator that will dynamically pad the inputs received.\n",
        "    Args:\n",
        "        processor (:class:`~transformers.Wav2Vec2Processor`)\n",
        "            The processor used for proccessing the data.\n",
        "        padding (:obj:`bool`, :obj:`str` or :class:`~transformers.tokenization_utils_base.PaddingStrategy`, `optional`, defaults to :obj:`True`):\n",
        "            Select a strategy to pad the returned sequences (according to the model's padding side and padding index)\n",
        "            among:\n",
        "            * :obj:`True` or :obj:`'longest'`: Pad to the longest sequence in the batch (or no padding if only a single\n",
        "              sequence if provided).\n",
        "            * :obj:`'max_length'`: Pad to a maximum length specified with the argument :obj:`max_length` or to the\n",
        "              maximum acceptable input length for the model if that argument is not provided.\n",
        "            * :obj:`False` or :obj:`'do_not_pad'` (default): No padding (i.e., can output a batch with sequences of\n",
        "              different lengths).\n",
        "    \"\"\"\n",
        "\n",
        "    processor: Wav2Vec2Processor\n",
        "    padding: Union[bool, str] = True\n",
        "\n",
        "    def __call__(self, features: List[Dict[str, Union[List[int], torch.Tensor]]]) -> Dict[str, torch.Tensor]:\n",
        "        # split inputs and labels since they have to be of different lenghts and need\n",
        "        # different padding methods\n",
        "        input_features = [{\"input_values\": feature[\"input_values\"]} for feature in features]\n",
        "        label_features = [{\"input_ids\": feature[\"labels\"]} for feature in features]\n",
        "\n",
        "        batch = self.processor.pad(\n",
        "            input_features,\n",
        "            padding=self.padding,\n",
        "            return_tensors=\"pt\",\n",
        "        )\n",
        "        with self.processor.as_target_processor():\n",
        "            labels_batch = self.processor.pad(\n",
        "                label_features,\n",
        "                padding=self.padding,\n",
        "                return_tensors=\"pt\",\n",
        "            )\n",
        "        # replace padding with -100 to ignore loss correctly\n",
        "        labels = labels_batch[\"input_ids\"].masked_fill(labels_batch.attention_mask.ne(1), -100)\n",
        "        batch[\"labels\"] = labels\n",
        "        \n",
        "        return batch"
      ]
    },
    {
      "cell_type": "code",
      "execution_count": 44,
      "metadata": {
        "id": "D5IdOTqXIDZq"
      },
      "outputs": [],
      "source": [
        "data_collator = DataCollatorCTCWithPadding(processor=processor, padding=True)"
      ]
    },
    {
      "cell_type": "code",
      "execution_count": 45,
      "metadata": {
        "colab": {
          "base_uri": "https://localhost:8080/"
        },
        "id": "pGToYvQzaMsJ",
        "outputId": "376fbe70-e009-48b2-fa98-da7235e45a2a"
      },
      "outputs": [
        {
          "output_type": "stream",
          "name": "stdout",
          "text": [
            "Looking in indexes: https://pypi.org/simple, https://us-python.pkg.dev/colab-wheels/public/simple/\n",
            "Requirement already satisfied: jiwer in /usr/local/lib/python3.8/dist-packages (2.5.1)\n",
            "Requirement already satisfied: levenshtein==0.20.2 in /usr/local/lib/python3.8/dist-packages (from jiwer) (0.20.2)\n",
            "Requirement already satisfied: rapidfuzz<3.0.0,>=2.3.0 in /usr/local/lib/python3.8/dist-packages (from levenshtein==0.20.2->jiwer) (2.13.4)\n"
          ]
        }
      ],
      "source": [
        "!pip install jiwer"
      ]
    },
    {
      "cell_type": "code",
      "execution_count": 46,
      "metadata": {
        "id": "tJCOH_GtJ6wI"
      },
      "outputs": [],
      "source": [
        "### Loading Evaluation metric\n",
        "from datasets import load_metric\n",
        "wer_metric = load_metric(\"wer\")"
      ]
    },
    {
      "cell_type": "code",
      "execution_count": 47,
      "metadata": {
        "id": "8FzN1gDcJ6y1"
      },
      "outputs": [],
      "source": [
        "def compute_metrics(pred):\n",
        "\n",
        "    pred_logits = pred.predictions\n",
        "    pred_ids = np.argmax(pred_logits, axis=-1)\n",
        "    pred.label_ids[pred.label_ids == -100] = processor_.tokenizer.pad_token_id\n",
        "    pred_str = processor_.batch_decode(pred_ids)\n",
        "    # we do not want to group tokens when computing the metrics\n",
        "    label_str = processor_.batch_decode(pred.label_ids, group_tokens=False)\n",
        "    wer = wer_metric.compute(predictions=pred_str, references=label_str)\n",
        "    \n",
        "    return {\"wer\": wer}"
      ]
    },
    {
      "cell_type": "code",
      "execution_count": 48,
      "metadata": {
        "colab": {
          "base_uri": "https://localhost:8080/"
        },
        "id": "PS-83ipGJ61i",
        "outputId": "18d793b3-973e-489a-9460-a2e2850dee5b"
      },
      "outputs": [
        {
          "output_type": "stream",
          "name": "stderr",
          "text": [
            "/usr/local/lib/python3.8/dist-packages/transformers/configuration_utils.py:356: UserWarning: Passing `gradient_checkpointing` to a config initialization is deprecated and will be removed in v5 Transformers. Using `model.gradient_checkpointing_enable()` instead, or if you are using the `Trainer` API, pass `gradient_checkpointing=True` in your `TrainingArguments`.\n",
            "  warnings.warn(\n",
            "Some weights of the model checkpoint at facebook/wav2vec2-base were not used when initializing Wav2Vec2ForCTC: ['project_hid.bias', 'quantizer.codevectors', 'quantizer.weight_proj.weight', 'project_q.bias', 'project_hid.weight', 'quantizer.weight_proj.bias', 'project_q.weight']\n",
            "- This IS expected if you are initializing Wav2Vec2ForCTC from the checkpoint of a model trained on another task or with another architecture (e.g. initializing a BertForSequenceClassification model from a BertForPreTraining model).\n",
            "- This IS NOT expected if you are initializing Wav2Vec2ForCTC from the checkpoint of a model that you expect to be exactly identical (initializing a BertForSequenceClassification model from a BertForSequenceClassification model).\n",
            "Some weights of Wav2Vec2ForCTC were not initialized from the model checkpoint at facebook/wav2vec2-base and are newly initialized: ['lm_head.weight', 'lm_head.bias']\n",
            "You should probably TRAIN this model on a down-stream task to be able to use it for predictions and inference.\n"
          ]
        }
      ],
      "source": [
        "### Loading CheckPoint\n",
        "\n",
        "from transformers import Wav2Vec2ForCTC\n",
        "\n",
        "model = Wav2Vec2ForCTC.from_pretrained(\n",
        "    \"facebook/wav2vec2-base\",\n",
        "    ctc_loss_reduction=\"mean\", \n",
        "    pad_token_id=processor.tokenizer.pad_token_id,\n",
        "    vocab_size = 64,\n",
        ")"
      ]
    },
    {
      "cell_type": "code",
      "execution_count": 49,
      "metadata": {
        "id": "DctwnyS4J64m"
      },
      "outputs": [],
      "source": [
        "model.freeze_feature_encoder()"
      ]
    },
    {
      "cell_type": "code",
      "execution_count": null,
      "metadata": {
        "id": "HC14JpEaJ68S"
      },
      "outputs": [],
      "source": [
        "from transformers import TrainingArguments\n",
        "\n",
        "training_args = TrainingArguments(\n",
        "  output_dir=\"./\",\n",
        "  group_by_length=True,\n",
        "  per_device_train_batch_size=8,\n",
        "  evaluation_strategy=\"steps\",\n",
        "  num_train_epochs=20,\n",
        "  fp16=True,\n",
        "  gradient_checkpointing=True,\n",
        "  save_steps=500,\n",
        "  eval_steps=500,\n",
        "  logging_steps=500,\n",
        "  learning_rate=1e-4,\n",
        "  weight_decay=0.005,\n",
        "  warmup_steps=1000,\n",
        "  save_total_limit=2,\n",
        ")"
      ]
    },
    {
      "cell_type": "code",
      "execution_count": null,
      "metadata": {
        "id": "FDtYTFC8eEZf"
      },
      "outputs": [],
      "source": []
    },
    {
      "cell_type": "markdown",
      "metadata": {
        "id": "6065myLskXhe"
      },
      "source": []
    },
    {
      "cell_type": "code",
      "execution_count": null,
      "metadata": {
        "id": "pebu0_YAOiIh"
      },
      "outputs": [],
      "source": [
        "# import Train_function\n",
        "from transformers import Trainer\n",
        "trainer = Trainer(\n",
        "    model=model,\n",
        "    data_collator=data_collator,\n",
        "    args=training_args,\n",
        "    compute_metrics=compute_metrics,\n",
        "    train_dataset= dta_dict[\"train\"],\n",
        "    eval_dataset= dta_dict[\"test\"],\n",
        "    tokenizer=processor.feature_extractor,)"
      ]
    },
    {
      "cell_type": "code",
      "execution_count": null,
      "metadata": {
        "id": "B3drHEfI5a4O"
      },
      "outputs": [],
      "source": [
        "trainer.train()"
      ]
    },
    {
      "cell_type": "markdown",
      "metadata": {
        "id": "Adm0LngNNxq7"
      },
      "source": [
        "```python\n",
        "from transformers import AutoModelForCTC, Wav2Vec2Processor\n",
        "\n",
        "model = AutoModelForCTC.from_pretrained(\"patrickvonplaten/wav2vec2-base-timit-demo-google-colab\")\n",
        "processor = Wav2Vec2Processor.from_pretrained(\"patrickvonplaten/wav2vec2-base-timit-demo-google-colab\")\n",
        "```"
      ]
    },
    {
      "cell_type": "markdown",
      "metadata": {
        "id": "nD4XP5IHncsY"
      },
      "source": [
        "### Evaluate\n",
        "\n",
        "In the final part, we run our model on some of the validation data to get a feeling for how well it works.\n",
        "\n",
        "Let's load the `processor` and `model`."
      ]
    },
    {
      "cell_type": "code",
      "execution_count": null,
      "metadata": {
        "id": "-rg0USDCnbo6"
      },
      "outputs": [],
      "source": [
        "processor_ = Wav2Vec2Processor.from_pretrained(\"patrickvonplaten/wav2vec2-base-timit-demo-google-colab\")"
      ]
    },
    {
      "cell_type": "code",
      "execution_count": null,
      "metadata": {
        "id": "sSpFW3pDn23P"
      },
      "outputs": [],
      "source": [
        "model = Wav2Vec2ForCTC.from_pretrained(\"patrickvonplaten/wav2vec2-base-timit-demo-google-colab\").cuda()"
      ]
    },
    {
      "cell_type": "markdown",
      "metadata": {
        "id": "TUuZpB0v5jn_"
      },
      "source": [
        "Now, we will make use of the `map(...)` function to predict the transcription of every test sample and to save the prediction in the dataset itself. We will call the resulting dictionary `\"results\"`. \n",
        "\n",
        "**Note**: we evaluate the test data set with `batch_size=1` on purpose due to this [issue](https://github.com/pytorch/fairseq/issues/3227). Since padded inputs don't yield the exact same output as non-padded inputs, a better WER can be achieved by not padding the input at all."
      ]
    },
    {
      "cell_type": "code",
      "execution_count": null,
      "metadata": {
        "id": "40naJl53n7jT"
      },
      "outputs": [],
      "source": [
        "def map_to_result(batch):\n",
        "  with torch.no_grad():\n",
        "    input_values = torch.tensor(batch[\"input_values\"], device=\"cuda\").unsqueeze(0)\n",
        "    logits = model(input_values).logits\n",
        "\n",
        "  pred_ids = torch.argmax(logits, dim=-1)\n",
        "  batch[\"pred_str\"] = processor_.batch_decode(pred_ids)[0]\n",
        "  batch[\"text\"] = processor.decode(batch[\"labels\"])\n",
        "  # print(batch[\"labels\"],pred_ids)\n",
        "  # batch[\"text\"] = processor.batch_decode(batch[\"labels\"], group_tokens=False)\n",
        "  \n",
        "  return batch"
      ]
    },
    {
      "cell_type": "code",
      "execution_count": null,
      "metadata": {
        "id": "uPqH7gZqrGPi"
      },
      "outputs": [],
      "source": [
        "results = dta_dict[\"test\"].map(map_to_result, remove_columns=dta_dict[\"test\"].column_names)\n",
        "# results = map_to_result(dta_dict[\"test\"])"
      ]
    },
    {
      "cell_type": "markdown",
      "metadata": {
        "id": "-mqpdB8R6rty"
      },
      "source": [
        "Let's compute the overall WER now."
      ]
    },
    {
      "cell_type": "code",
      "execution_count": null,
      "metadata": {
        "id": "PmqAb4Isx8OK"
      },
      "outputs": [],
      "source": [
        "print(\"Test WER: {:.3f}\".format(wer_metric.compute(predictions=results[\"pred_str\"], references=results[\"text\"])))"
      ]
    },
    {
      "cell_type": "code",
      "execution_count": null,
      "metadata": {
        "id": "odNDiFVRy53w"
      },
      "outputs": [],
      "source": [
        "show_random_elements(results)"
      ]
    },
    {
      "cell_type": "markdown",
      "metadata": {
        "id": "5HFCujhd9n4N"
      },
      "source": [
        "It becomes clear that the predicted transcriptions are acoustically very similar to the target transcriptions, but often contain spelling or grammatical errors. This shouldn't be very surprising though given that we purely rely on Wav2Vec2 without making use of a language model."
      ]
    },
    {
      "cell_type": "markdown",
      "metadata": {
        "id": "a3ydKvUl9FTK"
      },
      "source": [
        "Finally, to better understand how CTC works, it is worth taking a deeper look at the exact output of the model. Let's run the first test sample through the model, take the predicted ids and convert them to their corresponding tokens."
      ]
    },
    {
      "cell_type": "code",
      "execution_count": null,
      "metadata": {
        "id": "AqaM45t87uM4"
      },
      "outputs": [],
      "source": [
        "model.to(\"cuda\")\n",
        "\n",
        "with torch.no_grad():\n",
        "  logits = model(torch.tensor(dta_dict[\"test\"][:1][\"input_values\"], device=\"cuda\")).logits\n",
        "\n",
        "pred_ids = torch.argmax(logits, dim=-1)\n",
        "\n",
        "# convert ids to tokens\n",
        "\" \".join(processor.tokenizer.convert_ids_to_tokens(pred_ids[0].tolist()))"
      ]
    },
    {
      "cell_type": "markdown",
      "metadata": {
        "id": "tdO8E28g-n5C"
      },
      "source": [
        "The output should make it a bit clearer how CTC works in practice. The model is to some extent invariant to speaking rate since it has learned to either just repeat the same token in case the speech chunk to be classified still corresponds to the same token. This makes CTC a very powerful algorithm for speech recognition since the speech file's transcription is often very much independent of its length.\n"
      ]
    },
    {
      "cell_type": "code",
      "execution_count": null,
      "metadata": {
        "id": "5Fz2ZXZR-qbC"
      },
      "outputs": [],
      "source": []
    }
  ],
  "metadata": {
    "accelerator": "GPU",
    "colab": {
      "collapsed_sections": [
        "mYcIiR2FQ96i",
        "YFmShnl7RE35"
      ],
      "provenance": []
    },
    "gpuClass": "standard",
    "kernelspec": {
      "display_name": "Python 3",
      "language": "python",
      "name": "python3"
    },
    "language_info": {
      "codemirror_mode": {
        "name": "ipython",
        "version": 3
      },
      "file_extension": ".py",
      "mimetype": "text/x-python",
      "name": "python",
      "nbconvert_exporter": "python",
      "pygments_lexer": "ipython3",
      "version": "3.8.13"
    },
    "widgets": {
      "application/vnd.jupyter.widget-state+json": {
        "8edf3719ecc648109e91ff8e1fedd162": {
          "model_module": "@jupyter-widgets/controls",
          "model_name": "HBoxModel",
          "model_module_version": "1.5.0",
          "state": {
            "_dom_classes": [],
            "_model_module": "@jupyter-widgets/controls",
            "_model_module_version": "1.5.0",
            "_model_name": "HBoxModel",
            "_view_count": null,
            "_view_module": "@jupyter-widgets/controls",
            "_view_module_version": "1.5.0",
            "_view_name": "HBoxView",
            "box_style": "",
            "children": [
              "IPY_MODEL_4ec9778aae8241d58c976727aa73c966",
              "IPY_MODEL_3ae6e1fcb20a45acb65703f507d088f7",
              "IPY_MODEL_2d3eb38a2084401ab30df62edcdabb14"
            ],
            "layout": "IPY_MODEL_c04eb684c93749479020a0ca90c59936"
          }
        },
        "4ec9778aae8241d58c976727aa73c966": {
          "model_module": "@jupyter-widgets/controls",
          "model_name": "HTMLModel",
          "model_module_version": "1.5.0",
          "state": {
            "_dom_classes": [],
            "_model_module": "@jupyter-widgets/controls",
            "_model_module_version": "1.5.0",
            "_model_name": "HTMLModel",
            "_view_count": null,
            "_view_module": "@jupyter-widgets/controls",
            "_view_module_version": "1.5.0",
            "_view_name": "HTMLView",
            "description": "",
            "description_tooltip": null,
            "layout": "IPY_MODEL_742559febaf84142b2ae563ed31eba98",
            "placeholder": "​",
            "style": "IPY_MODEL_585c1aef228a4cc4a7ca86d8a6bd8365",
            "value": "100%"
          }
        },
        "3ae6e1fcb20a45acb65703f507d088f7": {
          "model_module": "@jupyter-widgets/controls",
          "model_name": "FloatProgressModel",
          "model_module_version": "1.5.0",
          "state": {
            "_dom_classes": [],
            "_model_module": "@jupyter-widgets/controls",
            "_model_module_version": "1.5.0",
            "_model_name": "FloatProgressModel",
            "_view_count": null,
            "_view_module": "@jupyter-widgets/controls",
            "_view_module_version": "1.5.0",
            "_view_name": "ProgressView",
            "bar_style": "success",
            "description": "",
            "description_tooltip": null,
            "layout": "IPY_MODEL_1caafea622ed490cbc7273434d0a31c8",
            "max": 5,
            "min": 0,
            "orientation": "horizontal",
            "style": "IPY_MODEL_a9e5e9f595d34c7490a652de19351ed2",
            "value": 5
          }
        },
        "2d3eb38a2084401ab30df62edcdabb14": {
          "model_module": "@jupyter-widgets/controls",
          "model_name": "HTMLModel",
          "model_module_version": "1.5.0",
          "state": {
            "_dom_classes": [],
            "_model_module": "@jupyter-widgets/controls",
            "_model_module_version": "1.5.0",
            "_model_name": "HTMLModel",
            "_view_count": null,
            "_view_module": "@jupyter-widgets/controls",
            "_view_module_version": "1.5.0",
            "_view_name": "HTMLView",
            "description": "",
            "description_tooltip": null,
            "layout": "IPY_MODEL_8415faae5c8e4080a8d21071761bf437",
            "placeholder": "​",
            "style": "IPY_MODEL_063dd71803ec47de80aacf7e97b8146f",
            "value": " 5/5 [00:00&lt;00:00, 95.46ba/s]"
          }
        },
        "c04eb684c93749479020a0ca90c59936": {
          "model_module": "@jupyter-widgets/base",
          "model_name": "LayoutModel",
          "model_module_version": "1.2.0",
          "state": {
            "_model_module": "@jupyter-widgets/base",
            "_model_module_version": "1.2.0",
            "_model_name": "LayoutModel",
            "_view_count": null,
            "_view_module": "@jupyter-widgets/base",
            "_view_module_version": "1.2.0",
            "_view_name": "LayoutView",
            "align_content": null,
            "align_items": null,
            "align_self": null,
            "border": null,
            "bottom": null,
            "display": null,
            "flex": null,
            "flex_flow": null,
            "grid_area": null,
            "grid_auto_columns": null,
            "grid_auto_flow": null,
            "grid_auto_rows": null,
            "grid_column": null,
            "grid_gap": null,
            "grid_row": null,
            "grid_template_areas": null,
            "grid_template_columns": null,
            "grid_template_rows": null,
            "height": null,
            "justify_content": null,
            "justify_items": null,
            "left": null,
            "margin": null,
            "max_height": null,
            "max_width": null,
            "min_height": null,
            "min_width": null,
            "object_fit": null,
            "object_position": null,
            "order": null,
            "overflow": null,
            "overflow_x": null,
            "overflow_y": null,
            "padding": null,
            "right": null,
            "top": null,
            "visibility": null,
            "width": null
          }
        },
        "742559febaf84142b2ae563ed31eba98": {
          "model_module": "@jupyter-widgets/base",
          "model_name": "LayoutModel",
          "model_module_version": "1.2.0",
          "state": {
            "_model_module": "@jupyter-widgets/base",
            "_model_module_version": "1.2.0",
            "_model_name": "LayoutModel",
            "_view_count": null,
            "_view_module": "@jupyter-widgets/base",
            "_view_module_version": "1.2.0",
            "_view_name": "LayoutView",
            "align_content": null,
            "align_items": null,
            "align_self": null,
            "border": null,
            "bottom": null,
            "display": null,
            "flex": null,
            "flex_flow": null,
            "grid_area": null,
            "grid_auto_columns": null,
            "grid_auto_flow": null,
            "grid_auto_rows": null,
            "grid_column": null,
            "grid_gap": null,
            "grid_row": null,
            "grid_template_areas": null,
            "grid_template_columns": null,
            "grid_template_rows": null,
            "height": null,
            "justify_content": null,
            "justify_items": null,
            "left": null,
            "margin": null,
            "max_height": null,
            "max_width": null,
            "min_height": null,
            "min_width": null,
            "object_fit": null,
            "object_position": null,
            "order": null,
            "overflow": null,
            "overflow_x": null,
            "overflow_y": null,
            "padding": null,
            "right": null,
            "top": null,
            "visibility": null,
            "width": null
          }
        },
        "585c1aef228a4cc4a7ca86d8a6bd8365": {
          "model_module": "@jupyter-widgets/controls",
          "model_name": "DescriptionStyleModel",
          "model_module_version": "1.5.0",
          "state": {
            "_model_module": "@jupyter-widgets/controls",
            "_model_module_version": "1.5.0",
            "_model_name": "DescriptionStyleModel",
            "_view_count": null,
            "_view_module": "@jupyter-widgets/base",
            "_view_module_version": "1.2.0",
            "_view_name": "StyleView",
            "description_width": ""
          }
        },
        "1caafea622ed490cbc7273434d0a31c8": {
          "model_module": "@jupyter-widgets/base",
          "model_name": "LayoutModel",
          "model_module_version": "1.2.0",
          "state": {
            "_model_module": "@jupyter-widgets/base",
            "_model_module_version": "1.2.0",
            "_model_name": "LayoutModel",
            "_view_count": null,
            "_view_module": "@jupyter-widgets/base",
            "_view_module_version": "1.2.0",
            "_view_name": "LayoutView",
            "align_content": null,
            "align_items": null,
            "align_self": null,
            "border": null,
            "bottom": null,
            "display": null,
            "flex": null,
            "flex_flow": null,
            "grid_area": null,
            "grid_auto_columns": null,
            "grid_auto_flow": null,
            "grid_auto_rows": null,
            "grid_column": null,
            "grid_gap": null,
            "grid_row": null,
            "grid_template_areas": null,
            "grid_template_columns": null,
            "grid_template_rows": null,
            "height": null,
            "justify_content": null,
            "justify_items": null,
            "left": null,
            "margin": null,
            "max_height": null,
            "max_width": null,
            "min_height": null,
            "min_width": null,
            "object_fit": null,
            "object_position": null,
            "order": null,
            "overflow": null,
            "overflow_x": null,
            "overflow_y": null,
            "padding": null,
            "right": null,
            "top": null,
            "visibility": null,
            "width": null
          }
        },
        "a9e5e9f595d34c7490a652de19351ed2": {
          "model_module": "@jupyter-widgets/controls",
          "model_name": "ProgressStyleModel",
          "model_module_version": "1.5.0",
          "state": {
            "_model_module": "@jupyter-widgets/controls",
            "_model_module_version": "1.5.0",
            "_model_name": "ProgressStyleModel",
            "_view_count": null,
            "_view_module": "@jupyter-widgets/base",
            "_view_module_version": "1.2.0",
            "_view_name": "StyleView",
            "bar_color": null,
            "description_width": ""
          }
        },
        "8415faae5c8e4080a8d21071761bf437": {
          "model_module": "@jupyter-widgets/base",
          "model_name": "LayoutModel",
          "model_module_version": "1.2.0",
          "state": {
            "_model_module": "@jupyter-widgets/base",
            "_model_module_version": "1.2.0",
            "_model_name": "LayoutModel",
            "_view_count": null,
            "_view_module": "@jupyter-widgets/base",
            "_view_module_version": "1.2.0",
            "_view_name": "LayoutView",
            "align_content": null,
            "align_items": null,
            "align_self": null,
            "border": null,
            "bottom": null,
            "display": null,
            "flex": null,
            "flex_flow": null,
            "grid_area": null,
            "grid_auto_columns": null,
            "grid_auto_flow": null,
            "grid_auto_rows": null,
            "grid_column": null,
            "grid_gap": null,
            "grid_row": null,
            "grid_template_areas": null,
            "grid_template_columns": null,
            "grid_template_rows": null,
            "height": null,
            "justify_content": null,
            "justify_items": null,
            "left": null,
            "margin": null,
            "max_height": null,
            "max_width": null,
            "min_height": null,
            "min_width": null,
            "object_fit": null,
            "object_position": null,
            "order": null,
            "overflow": null,
            "overflow_x": null,
            "overflow_y": null,
            "padding": null,
            "right": null,
            "top": null,
            "visibility": null,
            "width": null
          }
        },
        "063dd71803ec47de80aacf7e97b8146f": {
          "model_module": "@jupyter-widgets/controls",
          "model_name": "DescriptionStyleModel",
          "model_module_version": "1.5.0",
          "state": {
            "_model_module": "@jupyter-widgets/controls",
            "_model_module_version": "1.5.0",
            "_model_name": "DescriptionStyleModel",
            "_view_count": null,
            "_view_module": "@jupyter-widgets/base",
            "_view_module_version": "1.2.0",
            "_view_name": "StyleView",
            "description_width": ""
          }
        },
        "d842b47df5f24bcb806d1087c0fae428": {
          "model_module": "@jupyter-widgets/controls",
          "model_name": "HBoxModel",
          "model_module_version": "1.5.0",
          "state": {
            "_dom_classes": [],
            "_model_module": "@jupyter-widgets/controls",
            "_model_module_version": "1.5.0",
            "_model_name": "HBoxModel",
            "_view_count": null,
            "_view_module": "@jupyter-widgets/controls",
            "_view_module_version": "1.5.0",
            "_view_name": "HBoxView",
            "box_style": "",
            "children": [
              "IPY_MODEL_d16bf001ab4a4ef29fd756ad8c9893e0",
              "IPY_MODEL_ba3244131a034c8791b701c4deb60952",
              "IPY_MODEL_80b70479232f4613bdea4534eec8ec4d"
            ],
            "layout": "IPY_MODEL_83e8be75416d470595804c54e15f546e"
          }
        },
        "d16bf001ab4a4ef29fd756ad8c9893e0": {
          "model_module": "@jupyter-widgets/controls",
          "model_name": "HTMLModel",
          "model_module_version": "1.5.0",
          "state": {
            "_dom_classes": [],
            "_model_module": "@jupyter-widgets/controls",
            "_model_module_version": "1.5.0",
            "_model_name": "HTMLModel",
            "_view_count": null,
            "_view_module": "@jupyter-widgets/controls",
            "_view_module_version": "1.5.0",
            "_view_name": "HTMLView",
            "description": "",
            "description_tooltip": null,
            "layout": "IPY_MODEL_a99569dfd13e49a18d6ae2a3964ede77",
            "placeholder": "​",
            "style": "IPY_MODEL_f1d2e8a3477c4f27b1475958b59e1a85",
            "value": "100%"
          }
        },
        "ba3244131a034c8791b701c4deb60952": {
          "model_module": "@jupyter-widgets/controls",
          "model_name": "FloatProgressModel",
          "model_module_version": "1.5.0",
          "state": {
            "_dom_classes": [],
            "_model_module": "@jupyter-widgets/controls",
            "_model_module_version": "1.5.0",
            "_model_name": "FloatProgressModel",
            "_view_count": null,
            "_view_module": "@jupyter-widgets/controls",
            "_view_module_version": "1.5.0",
            "_view_name": "ProgressView",
            "bar_style": "success",
            "description": "",
            "description_tooltip": null,
            "layout": "IPY_MODEL_b2bcca5cb19a4d56ad3aa74e049e11b1",
            "max": 1,
            "min": 0,
            "orientation": "horizontal",
            "style": "IPY_MODEL_0de2173296f34e658f8bf88128b09881",
            "value": 1
          }
        },
        "80b70479232f4613bdea4534eec8ec4d": {
          "model_module": "@jupyter-widgets/controls",
          "model_name": "HTMLModel",
          "model_module_version": "1.5.0",
          "state": {
            "_dom_classes": [],
            "_model_module": "@jupyter-widgets/controls",
            "_model_module_version": "1.5.0",
            "_model_name": "HTMLModel",
            "_view_count": null,
            "_view_module": "@jupyter-widgets/controls",
            "_view_module_version": "1.5.0",
            "_view_name": "HTMLView",
            "description": "",
            "description_tooltip": null,
            "layout": "IPY_MODEL_91f43555d62a4c37bc3a0f47627e3148",
            "placeholder": "​",
            "style": "IPY_MODEL_c3e634c61ab547978b115c0d193b65ef",
            "value": " 1/1 [00:00&lt;00:00, 31.47ba/s]"
          }
        },
        "83e8be75416d470595804c54e15f546e": {
          "model_module": "@jupyter-widgets/base",
          "model_name": "LayoutModel",
          "model_module_version": "1.2.0",
          "state": {
            "_model_module": "@jupyter-widgets/base",
            "_model_module_version": "1.2.0",
            "_model_name": "LayoutModel",
            "_view_count": null,
            "_view_module": "@jupyter-widgets/base",
            "_view_module_version": "1.2.0",
            "_view_name": "LayoutView",
            "align_content": null,
            "align_items": null,
            "align_self": null,
            "border": null,
            "bottom": null,
            "display": null,
            "flex": null,
            "flex_flow": null,
            "grid_area": null,
            "grid_auto_columns": null,
            "grid_auto_flow": null,
            "grid_auto_rows": null,
            "grid_column": null,
            "grid_gap": null,
            "grid_row": null,
            "grid_template_areas": null,
            "grid_template_columns": null,
            "grid_template_rows": null,
            "height": null,
            "justify_content": null,
            "justify_items": null,
            "left": null,
            "margin": null,
            "max_height": null,
            "max_width": null,
            "min_height": null,
            "min_width": null,
            "object_fit": null,
            "object_position": null,
            "order": null,
            "overflow": null,
            "overflow_x": null,
            "overflow_y": null,
            "padding": null,
            "right": null,
            "top": null,
            "visibility": null,
            "width": null
          }
        },
        "a99569dfd13e49a18d6ae2a3964ede77": {
          "model_module": "@jupyter-widgets/base",
          "model_name": "LayoutModel",
          "model_module_version": "1.2.0",
          "state": {
            "_model_module": "@jupyter-widgets/base",
            "_model_module_version": "1.2.0",
            "_model_name": "LayoutModel",
            "_view_count": null,
            "_view_module": "@jupyter-widgets/base",
            "_view_module_version": "1.2.0",
            "_view_name": "LayoutView",
            "align_content": null,
            "align_items": null,
            "align_self": null,
            "border": null,
            "bottom": null,
            "display": null,
            "flex": null,
            "flex_flow": null,
            "grid_area": null,
            "grid_auto_columns": null,
            "grid_auto_flow": null,
            "grid_auto_rows": null,
            "grid_column": null,
            "grid_gap": null,
            "grid_row": null,
            "grid_template_areas": null,
            "grid_template_columns": null,
            "grid_template_rows": null,
            "height": null,
            "justify_content": null,
            "justify_items": null,
            "left": null,
            "margin": null,
            "max_height": null,
            "max_width": null,
            "min_height": null,
            "min_width": null,
            "object_fit": null,
            "object_position": null,
            "order": null,
            "overflow": null,
            "overflow_x": null,
            "overflow_y": null,
            "padding": null,
            "right": null,
            "top": null,
            "visibility": null,
            "width": null
          }
        },
        "f1d2e8a3477c4f27b1475958b59e1a85": {
          "model_module": "@jupyter-widgets/controls",
          "model_name": "DescriptionStyleModel",
          "model_module_version": "1.5.0",
          "state": {
            "_model_module": "@jupyter-widgets/controls",
            "_model_module_version": "1.5.0",
            "_model_name": "DescriptionStyleModel",
            "_view_count": null,
            "_view_module": "@jupyter-widgets/base",
            "_view_module_version": "1.2.0",
            "_view_name": "StyleView",
            "description_width": ""
          }
        },
        "b2bcca5cb19a4d56ad3aa74e049e11b1": {
          "model_module": "@jupyter-widgets/base",
          "model_name": "LayoutModel",
          "model_module_version": "1.2.0",
          "state": {
            "_model_module": "@jupyter-widgets/base",
            "_model_module_version": "1.2.0",
            "_model_name": "LayoutModel",
            "_view_count": null,
            "_view_module": "@jupyter-widgets/base",
            "_view_module_version": "1.2.0",
            "_view_name": "LayoutView",
            "align_content": null,
            "align_items": null,
            "align_self": null,
            "border": null,
            "bottom": null,
            "display": null,
            "flex": null,
            "flex_flow": null,
            "grid_area": null,
            "grid_auto_columns": null,
            "grid_auto_flow": null,
            "grid_auto_rows": null,
            "grid_column": null,
            "grid_gap": null,
            "grid_row": null,
            "grid_template_areas": null,
            "grid_template_columns": null,
            "grid_template_rows": null,
            "height": null,
            "justify_content": null,
            "justify_items": null,
            "left": null,
            "margin": null,
            "max_height": null,
            "max_width": null,
            "min_height": null,
            "min_width": null,
            "object_fit": null,
            "object_position": null,
            "order": null,
            "overflow": null,
            "overflow_x": null,
            "overflow_y": null,
            "padding": null,
            "right": null,
            "top": null,
            "visibility": null,
            "width": null
          }
        },
        "0de2173296f34e658f8bf88128b09881": {
          "model_module": "@jupyter-widgets/controls",
          "model_name": "ProgressStyleModel",
          "model_module_version": "1.5.0",
          "state": {
            "_model_module": "@jupyter-widgets/controls",
            "_model_module_version": "1.5.0",
            "_model_name": "ProgressStyleModel",
            "_view_count": null,
            "_view_module": "@jupyter-widgets/base",
            "_view_module_version": "1.2.0",
            "_view_name": "StyleView",
            "bar_color": null,
            "description_width": ""
          }
        },
        "91f43555d62a4c37bc3a0f47627e3148": {
          "model_module": "@jupyter-widgets/base",
          "model_name": "LayoutModel",
          "model_module_version": "1.2.0",
          "state": {
            "_model_module": "@jupyter-widgets/base",
            "_model_module_version": "1.2.0",
            "_model_name": "LayoutModel",
            "_view_count": null,
            "_view_module": "@jupyter-widgets/base",
            "_view_module_version": "1.2.0",
            "_view_name": "LayoutView",
            "align_content": null,
            "align_items": null,
            "align_self": null,
            "border": null,
            "bottom": null,
            "display": null,
            "flex": null,
            "flex_flow": null,
            "grid_area": null,
            "grid_auto_columns": null,
            "grid_auto_flow": null,
            "grid_auto_rows": null,
            "grid_column": null,
            "grid_gap": null,
            "grid_row": null,
            "grid_template_areas": null,
            "grid_template_columns": null,
            "grid_template_rows": null,
            "height": null,
            "justify_content": null,
            "justify_items": null,
            "left": null,
            "margin": null,
            "max_height": null,
            "max_width": null,
            "min_height": null,
            "min_width": null,
            "object_fit": null,
            "object_position": null,
            "order": null,
            "overflow": null,
            "overflow_x": null,
            "overflow_y": null,
            "padding": null,
            "right": null,
            "top": null,
            "visibility": null,
            "width": null
          }
        },
        "c3e634c61ab547978b115c0d193b65ef": {
          "model_module": "@jupyter-widgets/controls",
          "model_name": "DescriptionStyleModel",
          "model_module_version": "1.5.0",
          "state": {
            "_model_module": "@jupyter-widgets/controls",
            "_model_module_version": "1.5.0",
            "_model_name": "DescriptionStyleModel",
            "_view_count": null,
            "_view_module": "@jupyter-widgets/base",
            "_view_module_version": "1.2.0",
            "_view_name": "StyleView",
            "description_width": ""
          }
        }
      }
    }
  },
  "nbformat": 4,
  "nbformat_minor": 0
}